{
 "cells": [
  {
   "cell_type": "code",
   "execution_count": 1,
   "id": "bcbdb979",
   "metadata": {},
   "outputs": [
    {
     "name": "stderr",
     "output_type": "stream",
     "text": [
      "/Users/rolypolyvg/Desktop/deeppm/torch/lib/python3.11/site-packages/tqdm/auto.py:21: TqdmWarning: IProgress not found. Please update jupyter and ipywidgets. See https://ipywidgets.readthedocs.io/en/stable/user_install.html\n",
      "  from .autonotebook import tqdm as notebook_tqdm\n"
     ]
    }
   ],
   "source": [
    "import torch\n",
    "from data.data_cost import load_dataset"
   ]
  },
  {
   "cell_type": "code",
   "execution_count": 2,
   "id": "c54bcb5d",
   "metadata": {},
   "outputs": [
    {
     "name": "stderr",
     "output_type": "stream",
     "text": [
      "100%|███████████████████████████████████████████████████████████████████████████████████████████████| 816037/816037 [01:01<00:00, 13342.87it/s]"
     ]
    },
    {
     "name": "stdout",
     "output_type": "stream",
     "text": [
      "train 652798 test 163200\n"
     ]
    },
    {
     "name": "stderr",
     "output_type": "stream",
     "text": [
      "\n"
     ]
    }
   ],
   "source": [
    "file_name = 'training_data/intel_core.data'\n",
    "data = load_dataset(file_name)"
   ]
  },
  {
   "cell_type": "code",
   "execution_count": 3,
   "id": "3b55171c",
   "metadata": {},
   "outputs": [],
   "source": [
    "ys = [item.y for item in data.data]"
   ]
  },
  {
   "cell_type": "code",
   "execution_count": 5,
   "id": "6cfb8cc6",
   "metadata": {},
   "outputs": [],
   "source": [
    "small, big = min(ys), max(ys)"
   ]
  },
  {
   "cell_type": "code",
   "execution_count": 6,
   "id": "39284893",
   "metadata": {},
   "outputs": [
    {
     "data": {
      "text/plain": [
       "(0.0, 1078226.0)"
      ]
     },
     "execution_count": 6,
     "metadata": {},
     "output_type": "execute_result"
    }
   ],
   "source": [
    "small, big"
   ]
  },
  {
   "cell_type": "code",
   "execution_count": 9,
   "id": "a49dea33",
   "metadata": {},
   "outputs": [],
   "source": [
    "import torch\n",
    "import torch.nn as nn"
   ]
  },
  {
   "cell_type": "code",
   "execution_count": 33,
   "id": "854f100b",
   "metadata": {},
   "outputs": [],
   "source": [
    "x = torch.tensor(3, dtype=torch.float32)\n",
    "target = torch.tensor(small, dtype=torch.float32)\n",
    "loss_fn = nn.MSELoss(reduction='none')"
   ]
  },
  {
   "cell_type": "code",
   "execution_count": 35,
   "id": "a3b47893",
   "metadata": {},
   "outputs": [
    {
     "name": "stderr",
     "output_type": "stream",
     "text": [
      "/var/folders/62/p4ytt__j1bzcfn99r1z5s1g00000gn/T/ipykernel_25109/1084505469.py:1: UserWarning: torch.range is deprecated and will be removed in a future release because its behavior is inconsistent with Python's range builtin. Instead, use torch.arange, which produces values in [start, end).\n",
      "  x = torch.range(0, 10000000)\n"
     ]
    }
   ],
   "source": []
  },
  {
   "cell_type": "code",
   "execution_count": 50,
   "id": "46f3e036",
   "metadata": {},
   "outputs": [
    {
     "data": {
      "text/plain": [
       "tensor(False)"
      ]
     },
     "execution_count": 50,
     "metadata": {},
     "output_type": "execute_result"
    }
   ],
   "source": [
    "target = torch.tensor(big, dtype=torch.float32)\n",
    "x = torch.arange(0, 10000000) / 1\n",
    "\n",
    "out = torch.sqrt(loss_fn(x, target)) / (target + 1e-3)\n",
    "torch.isnan(out).any()"
   ]
  },
  {
   "cell_type": "code",
   "execution_count": null,
   "id": "88036c31",
   "metadata": {},
   "outputs": [],
   "source": [
    "a = torch.tensor(3, dtype=torch.float32)\n",
    "torch.sqrt((a-b))\n",
    "loss_fn = nn.MSELoss(reduction='none')\n",
    "loss = torch.sqrt(loss_fn(output, target)) / (target + 1e-3)\n",
    "loss = torch.mean(loss)"
   ]
  },
  {
   "cell_type": "code",
   "execution_count": null,
   "id": "5add8520",
   "metadata": {},
   "outputs": [],
   "source": [
    "loss_fn = nn.MSELoss(reduction='none')\n",
    "loss_fn()"
   ]
  }
 ],
 "metadata": {
  "kernelspec": {
   "display_name": "Python 3 (ipykernel)",
   "language": "python",
   "name": "python3"
  },
  "language_info": {
   "codemirror_mode": {
    "name": "ipython",
    "version": 3
   },
   "file_extension": ".py",
   "mimetype": "text/x-python",
   "name": "python",
   "nbconvert_exporter": "python",
   "pygments_lexer": "ipython3",
   "version": "3.11.4"
  }
 },
 "nbformat": 4,
 "nbformat_minor": 5
}
