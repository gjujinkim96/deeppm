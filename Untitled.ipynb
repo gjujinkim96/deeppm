{
 "cells": [
  {
   "cell_type": "code",
   "execution_count": 33,
   "id": "bcbdb979",
   "metadata": {},
   "outputs": [],
   "source": [
    "import torch\n",
    "from data.data_cost import load_dataset"
   ]
  },
  {
   "cell_type": "code",
   "execution_count": 34,
   "id": "c54bcb5d",
   "metadata": {},
   "outputs": [
    {
     "name": "stderr",
     "output_type": "stream",
     "text": [
      "100%|█████████████████████████████████| 816037/816037 [01:50<00:00, 7363.87it/s]\n"
     ]
    },
    {
     "name": "stdout",
     "output_type": "stream",
     "text": [
      "train 652793 test 163198\n"
     ]
    }
   ],
   "source": [
    "file_name = 'training_data/intel_core.data'\n",
    "data = load_dataset(file_name)"
   ]
  },
  {
   "cell_type": "code",
   "execution_count": 36,
   "id": "a7d66d47",
   "metadata": {},
   "outputs": [],
   "source": [
    "item = data.data[0]"
   ]
  },
  {
   "cell_type": "code",
   "execution_count": 40,
   "id": "39ea7616",
   "metadata": {},
   "outputs": [],
   "source": [
    "item = data.data[368341]"
   ]
  },
  {
   "cell_type": "code",
   "execution_count": 37,
   "id": "713eb8cd",
   "metadata": {},
   "outputs": [
    {
     "data": {
      "text/plain": [
       "(390, 11)"
      ]
     },
     "execution_count": 37,
     "metadata": {},
     "output_type": "execute_result"
    }
   ],
   "source": [
    "max_inst = max([len(item.x) for item in data.data])\n",
    "max_toks = max([len(toks) for toks in item.x for item in data.data])\n",
    "max_inst, max_toks"
   ]
  },
  {
   "cell_type": "code",
   "execution_count": 13,
   "id": "9342d412",
   "metadata": {},
   "outputs": [
    {
     "data": {
      "text/plain": [
       "[11, 9]"
      ]
     },
     "execution_count": 13,
     "metadata": {},
     "output_type": "execute_result"
    }
   ],
   "source": [
    "[len(toks) for toks in item.x]"
   ]
  },
  {
   "cell_type": "code",
   "execution_count": 16,
   "id": "1cecf1f2",
   "metadata": {},
   "outputs": [
    {
     "data": {
      "text/plain": [
       "4290"
      ]
     },
     "execution_count": 16,
     "metadata": {},
     "output_type": "execute_result"
    }
   ],
   "source": [
    "390 * 11"
   ]
  },
  {
   "cell_type": "code",
   "execution_count": 18,
   "id": "18ee974d",
   "metadata": {},
   "outputs": [],
   "source": [
    "for item in data.data:\n",
    "    if len(item.x) == 390:\n",
    "        break\n",
    "        "
   ]
  },
  {
   "cell_type": "code",
   "execution_count": 23,
   "id": "22509497",
   "metadata": {},
   "outputs": [
    {
     "data": {
      "text/plain": [
       "3071"
      ]
     },
     "execution_count": 23,
     "metadata": {},
     "output_type": "execute_result"
    }
   ],
   "source": [
    "sum([len(toks) for toks in item.x])"
   ]
  },
  {
   "cell_type": "code",
   "execution_count": 48,
   "id": "6f600ff1",
   "metadata": {},
   "outputs": [
    {
     "data": {
      "text/plain": [
       "([tensor([12,  2,  6,  3,  8,  5, 44,  9]), tensor([10,  2, 44, 44,  5,  9])],\n",
       " 61.0)"
      ]
     },
     "execution_count": 48,
     "metadata": {},
     "output_type": "execute_result"
    }
   ],
   "source": [
    "data.data[368340].x, data.data[368340].y"
   ]
  },
  {
   "cell_type": "code",
   "execution_count": 55,
   "id": "a6d1ab3d",
   "metadata": {},
   "outputs": [],
   "source": [
    "for idx, a in enumerate(data.data):\n",
    "    if a.y == 154765.0:\n",
    "        print(found)\n",
    "        break"
   ]
  },
  {
   "cell_type": "code",
   "execution_count": 50,
   "id": "63f0ac2d",
   "metadata": {},
   "outputs": [
    {
     "data": {
      "text/plain": [
       "<data.data_cost.DataItem at 0x4c8260a10>"
      ]
     },
     "execution_count": 50,
     "metadata": {},
     "output_type": "execute_result"
    }
   ],
   "source": [
    "a"
   ]
  },
  {
   "cell_type": "code",
   "execution_count": 53,
   "id": "0c6686ee",
   "metadata": {},
   "outputs": [
    {
     "data": {
      "text/plain": [
       "815991"
      ]
     },
     "execution_count": 53,
     "metadata": {},
     "output_type": "execute_result"
    }
   ],
   "source": [
    "idx"
   ]
  },
  {
   "cell_type": "code",
   "execution_count": 54,
   "id": "29f7b4ac",
   "metadata": {},
   "outputs": [
    {
     "data": {
      "text/plain": [
       "453.0"
      ]
     },
     "execution_count": 54,
     "metadata": {},
     "output_type": "execute_result"
    }
   ],
   "source": [
    "a.y"
   ]
  },
  {
   "cell_type": "code",
   "execution_count": null,
   "id": "8092e2e8",
   "metadata": {},
   "outputs": [],
   "source": []
  }
 ],
 "metadata": {
  "kernelspec": {
   "display_name": "Python 3 (ipykernel)",
   "language": "python",
   "name": "python3"
  },
  "language_info": {
   "codemirror_mode": {
    "name": "ipython",
    "version": 3
   },
   "file_extension": ".py",
   "mimetype": "text/x-python",
   "name": "python",
   "nbconvert_exporter": "python",
   "pygments_lexer": "ipython3",
   "version": "3.11.4"
  }
 },
 "nbformat": 4,
 "nbformat_minor": 5
}
