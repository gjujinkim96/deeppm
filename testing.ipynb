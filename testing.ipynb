{
 "cells": [
  {
   "cell_type": "code",
   "execution_count": 1,
   "id": "161bc33b",
   "metadata": {},
   "outputs": [],
   "source": [
    "data_file = 'training_data/intel_core.data'"
   ]
  },
  {
   "cell_type": "code",
   "execution_count": 2,
   "id": "7008219d",
   "metadata": {},
   "outputs": [],
   "source": [
    "import torch"
   ]
  },
  {
   "cell_type": "code",
   "execution_count": 3,
   "id": "181a371d",
   "metadata": {},
   "outputs": [
    {
     "name": "stdout",
     "output_type": "stream",
     "text": [
      "arm_core.data         \u001b[34marm_raw\u001b[m\u001b[m               intel_power_100x.data\r\n",
      "arm_power_100m.data   intel_core.data       \u001b[34mintel_raw\u001b[m\u001b[m\r\n",
      "arm_power_60m.data    intel_core.save\r\n",
      "arm_power_7m.data     intel_power.data\r\n"
     ]
    }
   ],
   "source": [
    "!ls training_data"
   ]
  },
  {
   "cell_type": "code",
   "execution_count": 10,
   "id": "cd36ac82",
   "metadata": {
    "scrolled": true
   },
   "outputs": [
    {
     "name": "stderr",
     "output_type": "stream",
     "text": [
      "100%|█████████████████████████████████████████| 816037/816037 [01:06<00:00, 12228.28it/s]"
     ]
    },
    {
     "name": "stdout",
     "output_type": "stream",
     "text": [
      "train 652829 test 163208\n"
     ]
    },
    {
     "name": "stderr",
     "output_type": "stream",
     "text": [
      "\n"
     ]
    }
   ],
   "source": [
    "from data.data_cost import DataInstructionEmbedding, load_dataset\n",
    "\n",
    "data = load_dataset(data_file, small_size=False)"
   ]
  },
  {
   "cell_type": "code",
   "execution_count": 7,
   "id": "80cf5b90",
   "metadata": {},
   "outputs": [],
   "source": [
    "item = data.data[0]"
   ]
  },
  {
   "cell_type": "code",
   "execution_count": 6,
   "id": "eaccab85",
   "metadata": {},
   "outputs": [
    {
     "data": {
      "text/plain": [
       "'push   rbx\\ntest   byte ptr [rdi+0x0e], 0x01'"
      ]
     },
     "execution_count": 6,
     "metadata": {},
     "output_type": "execute_result"
    }
   ],
   "source": [
    "data.raw_data[0][2]"
   ]
  },
  {
   "cell_type": "code",
   "execution_count": 9,
   "id": "dba1df81",
   "metadata": {},
   "outputs": [
    {
     "data": {
      "text/plain": [
       "22"
      ]
     },
     "execution_count": 9,
     "metadata": {},
     "output_type": "execute_result"
    }
   ],
   "source": [
    "len(item.x)"
   ]
  },
  {
   "cell_type": "code",
   "execution_count": 17,
   "id": "e26b140b",
   "metadata": {},
   "outputs": [
    {
     "name": "stdout",
     "output_type": "stream",
     "text": [
      "368341\n"
     ]
    }
   ],
   "source": [
    "for idx, elem in enumerate(data.data):\n",
    "    if len(elem.x) == 24118:\n",
    "        print(idx)\n",
    "        x = idx"
   ]
  },
  {
   "cell_type": "code",
   "execution_count": 30,
   "id": "84ae84d5",
   "metadata": {},
   "outputs": [
    {
     "ename": "SyntaxError",
     "evalue": "invalid syntax (3689008014.py, line 1)",
     "output_type": "error",
     "traceback": [
      "\u001b[0;36m  Cell \u001b[0;32mIn[30], line 1\u001b[0;36m\u001b[0m\n\u001b[0;31m    data.data[0].block.\u001b[0m\n\u001b[0m                       ^\u001b[0m\n\u001b[0;31mSyntaxError\u001b[0m\u001b[0;31m:\u001b[0m invalid syntax\n"
     ]
    }
   ],
   "source": [
    "data.data[0].block."
   ]
  },
  {
   "cell_type": "code",
   "execution_count": 31,
   "id": "af0a3a33",
   "metadata": {},
   "outputs": [
    {
     "data": {
      "text/plain": [
       "[1,\n",
       " 102.0,\n",
       " 'push   rbx\\ntest   byte ptr [rdi+0x0e], 0x01',\n",
       " '<block><instr><opcode>224</opcode><srcs><operand>4</operand><operand>5</operand></srcs><dsts><operand>5</operand><operand><mem><base>5</base><disp>204</disp></mem></operand></dsts></instr><instr><opcode>266</opcode><srcs><operand><mem><base>8</base><disp>204</disp></mem></operand><operand>204</operand></srcs><dsts></dsts></instr></block>']"
      ]
     },
     "execution_count": 31,
     "metadata": {},
     "output_type": "execute_result"
    }
   ],
   "source": [
    "data.raw_data[0]"
   ]
  },
  {
   "cell_type": "code",
   "execution_count": 32,
   "id": "c90d56af",
   "metadata": {},
   "outputs": [
    {
     "data": {
      "text/plain": [
       "['<START>',\n",
       " 224,\n",
       " '<SRCS>',\n",
       " 4,\n",
       " 5,\n",
       " '<DSTS>',\n",
       " 5,\n",
       " '<MEM>',\n",
       " 5,\n",
       " 204,\n",
       " '</MEM>',\n",
       " '<END>',\n",
       " 266,\n",
       " '<SRCS>',\n",
       " '<MEM>',\n",
       " 8,\n",
       " 204,\n",
       " '</MEM>',\n",
       " 204,\n",
       " '<DSTS>',\n",
       " '<END>',\n",
       " '<DONE>']"
      ]
     },
     "execution_count": 32,
     "metadata": {},
     "output_type": "execute_result"
    }
   ],
   "source": [
    "data.raw[0]"
   ]
  },
  {
   "cell_type": "code",
   "execution_count": null,
   "id": "67bf8b33",
   "metadata": {},
   "outputs": [],
   "source": []
  }
 ],
 "metadata": {
  "kernelspec": {
   "display_name": "Python 3 (ipykernel)",
   "language": "python",
   "name": "python3"
  },
  "language_info": {
   "codemirror_mode": {
    "name": "ipython",
    "version": 3
   },
   "file_extension": ".py",
   "mimetype": "text/x-python",
   "name": "python",
   "nbconvert_exporter": "python",
   "pygments_lexer": "ipython3",
   "version": "3.11.4"
  }
 },
 "nbformat": 4,
 "nbformat_minor": 5
}
